{
 "cells": [
  {
   "cell_type": "code",
   "execution_count": 13,
   "metadata": {},
   "outputs": [],
   "source": [
    "from db_connector import create_connection"
   ]
  },
  {
   "cell_type": "code",
   "execution_count": 14,
   "metadata": {},
   "outputs": [],
   "source": [
    "from daos import get_db_data"
   ]
  },
  {
   "cell_type": "code",
   "execution_count": 15,
   "metadata": {},
   "outputs": [
    {
     "name": "stdout",
     "output_type": "stream",
     "text": [
      "Connection successfully created\n"
     ]
    }
   ],
   "source": [
    "conn = create_connection()"
   ]
  },
  {
   "cell_type": "code",
   "execution_count": 18,
   "metadata": {},
   "outputs": [],
   "source": [
    "user_answer_solutions = get_db_data.get_answer_solutions(conn, 3)"
   ]
  },
  {
   "cell_type": "code",
   "execution_count": 19,
   "metadata": {},
   "outputs": [
    {
     "name": "stdout",
     "output_type": "stream",
     "text": [
      "[(1, 1, 1, 'When the digital strategy is fully aligned with the business strategy, digital initiatives directly support the achievement of business objectives. This includes understanding the business’s strategic goals and ensuring that all digital efforts contribute towards these goals', 1), (1, 1, 2, 'If the alignment needs improvement, it means that while there is some connection between the digital and business strategies, there are areas where the digital initiatives are not effectively supporting the business objectives. This could be due to a lack of communication, unclear digital goals, or a rapidly changing digital landscape.', 2), (1, 1, 3, 'Without a plan in place, digital initiatives may be disjointed and not contribute effectively to business objectives. It’s crucial to develop a digital strategy that aligns with the business strategy to ensure that digital initiatives are driving the organization towards its goals.', 3), (2, 4, 1, 'Responsible for aligningg technology with the organisations strategic goals', 1), (2, 4, 2, 'Focuses on external customer-facing technologies and how they align with business operation', 2), (2, 4, 3, 'Directly manages the implmentation of digital transformation projects', 3), (3, 13, 1, ' Continuous monitoring is the most effective as it allows for real-time adjustments and can quickly identify issues or opportunities', 1), (3, 13, 2, 'Monthly reviews can be effective for tracking progress and making minor adjustments to the strategy', 2), (3, 13, 3, 'Quarterly reviews provide a balance between being responsive to changes and not having to constantly adjust your strategy', 3), (4, 18, 1, 'This is often considered the most important metric as it directly relates to the profitability of your digital initiatives', 1), (4, 18, 2, 'This measures the effectiveness of your digital strategy in driving desired actions, making it a key indicator of success', 2), (4, 18, 3, 'These metrics provide insights into the cost-effectiveness of your customer acquisition strategies and the value that customers bring over their lifetime', 3), (5, 26, 1, 'Indicates how well new digital tools are being utilized and their impact', 1), (5, 27, 1, 'Indicates how well new digital tools are being utilized and their impact', 2), (5, 28, 1, 'Indicates how well new digital tools are being utilized and their impact', 3), (6, 47, 1, 'Articulate the digital strategy and its relevance to the company’s vision', 1), (6, 48, 1, 'Articulate the digital strategy and its relevance to the company’s vision', 2), (6, 49, 1, 'Articulate the digital strategy and its relevance to the company’s vision', 3), (7, 56, 1, '', 1), (7, 57, 1, '', 2), (7, 58, 1, '', 3), (8, 63, 1, 'The foundation for gathering valuable insights', 1), (8, 63, 2, 'Critical for understanding the impact and guiding decisions', 2), (8, 63, 3, 'Essential for keeping the strategy relevant and effective', 3), (9, 70, 1, 'Ensures that the technology supports the business objectives', 1), (9, 71, 1, 'Ensures that the technology supports the business objectives', 2), (9, 70, 2, 'Fundamental for understanding the potential and limitations of new technologies', 3), (10, 77, 1, 'The basis for a customer-centric strategy', 1), (10, 77, 2, 'Key to making customers feel valued and understood', 2), (10, 77, 3, 'Seamless user experience', 3), (11, 84, 1, 'The ability to interpret and leverage data is crucial for driving business decisions and strategy in a mature digital company', 1), (11, 85, 1, 'The ability to interpret and leverage data is crucial for driving business decisions and strategy in a mature digital company', 2), (11, 86, 1, 'The ability to interpret and leverage data is crucial for driving business decisions and strategy in a mature digital company', 3), (12, 94, 1, 'These tests are designed to assess the specific digital skills required for the job, making them a top priority', 1), (12, 95, 1, 'These tests are designed to assess the specific digital skills required for the job, making them a top priority', 2), (12, 96, 1, 'These tests are designed to assess the specific digital skills required for the job, making them a top priority', 3), (13, 102, 1, 'These are often the most direct and effective way to upskill employees, as they can be tailored to the specific needs of the organization and its employees', 1), (13, 103, 1, 'These are often the most direct and effective way to upskill employees, as they can be tailored to the specific needs of the organization and its employees', 2), (13, 104, 1, 'These are often the most direct and effective way to upskill employees, as they can be tailored to the specific needs of the organization and its employees', 3), (14, 113, 1, 'Leaders acting as role models and actively supporting their team’s learning efforts can have the greatest impact on fostering a learning culture', 1), (14, 114, 1, 'Leaders acting as role models and actively supporting their team’s learning efforts can have the greatest impact on fostering a learning culture', 2), (14, 115, 1, 'Leaders acting as role models and actively supporting their team’s learning efforts can have the greatest impact on fostering a learning culture', 3), (15, 127, 1, 'The ability to analyze and interpret data effectively is crucial for driving business decisions and strategy', 1), (15, 128, 1, 'The ability to analyze and interpret data effectively is crucial for driving business decisions and strategy', 2), (15, 129, 1, 'The ability to analyze and interpret data effectively is crucial for driving business decisions and strategy', 3), (16, 137, 1, 'Implementing comprehensive training programs for existing employees can help to improve their digital skills. This could include workshops, online courses, or even bringing in experts for in-house training sessions', 1), (16, 138, 1, 'Implementing comprehensive training programs for existing employees can help to improve their digital skills. This could include workshops, online courses, or even bringing in experts for in-house training sessions', 2), (16, 139, 1, 'Implementing comprehensive training programs for existing employees can help to improve their digital skills. This could include workshops, online courses, or even bringing in experts for in-house training sessions', 3), (17, 144, 1, 'The digital world is constantly evolving, so it’s important to be a lifelong learner. This could involve taking online courses, attending workshops or webinars, or reading up on the latest trends and technologies', 1), (17, 145, 1, 'The digital world is constantly evolving, so it’s important to be a lifelong learner. This could involve taking online courses, attending workshops or webinars, or reading up on the latest trends and technologies', 2), (17, 146, 1, 'The digital world is constantly evolving, so it’s important to be a lifelong learner. This could involve taking online courses, attending workshops or webinars, or reading up on the latest trends and technologies', 3), (18, 151, 1, 'Regularly assess the digital skills of your employees to identify any gaps. This can be done through surveys, interviews, or performance reviews', 1), (18, 152, 1, 'Regularly assess the digital skills of your employees to identify any gaps. This can be done through surveys, interviews, or performance reviews', 2), (18, 153, 1, 'Regularly assess the digital skills of your employees to identify any gaps. This can be done through surveys, interviews, or performance reviews', 3), (19, 159, 1, 'Provide comprehensive training on new tools and platforms. This could include hands-on workshops, online tutorials, or even bringing in experts for in-house training sessions', 1), (19, 160, 1, 'Provide comprehensive training on new tools and platforms. This could include hands-on workshops, online tutorials, or even bringing in experts for in-house training sessions', 2), (19, 161, 1, 'Provide comprehensive training on new tools and platforms. This could include hands-on workshops, online tutorials, or even bringing in experts for in-house training sessions', 3), (20, 166, 1, 'Offering competitive salaries and benefits is often the most direct way to attract talented professionals', 1), (20, 167, 1, 'Offering competitive salaries and benefits is often the most direct way to attract talented professionals', 2), (20, 168, 1, 'Offering competitive salaries and benefits is often the most direct way to attract talented professionals', 3), (21, 175, 1, '', 1), (21, 176, 1, '', 2), (21, 177, 1, '', 3), (22, 186, 1, 'Essential for explaining benefits, addressing concerns, and ensuring everyone is on the same page', 1), (22, 186, 2, 'Crucial for championing the adoption and addressing challenges', 2), (22, 186, 3, 'Vital for ensuring users understand how to use the new technology effectively', 3), (23, 203, 1, 'Accurately measuring the return on investment helps justify the expense and assess the technology’s value', 1), (23, 204, 1, 'Accurately measuring the return on investment helps justify the expense and assess the technology’s value', 2), (23, 205, 1, 'Accurately measuring the return on investment helps justify the expense and assess the technology’s value', 3), (24, 206, 1, 'A high adoption rate is crucial as it indicates widespread acceptance and use of the technology', 1), (24, 207, 1, 'A high adoption rate is crucial as it indicates widespread acceptance and use of the technology', 2), (24, 208, 1, 'A high adoption rate is crucial as it indicates widespread acceptance and use of the technology', 3), (25, 216, 1, 'Establishing clear objectives is crucial as it guides the entire alignment process', 1), (25, 217, 1, 'Establishing clear objectives is crucial as it guides the entire alignment process', 2), (25, 218, 1, 'Establishing clear objectives is crucial as it guides the entire alignment process', 3), (26, 226, 1, 'Clearly defining and communicating objectives helps everyone understand the purpose and benefits of the change', 1), (26, 227, 1, 'Clearly defining and communicating objectives helps everyone understand the purpose and benefits of the change', 2), (26, 228, 1, 'Clearly defining and communicating objectives helps everyone understand the purpose and benefits of the change', 3), (27, 238, 1, 'Becoming a member of industry-specific organizations can provide access to the latest research, publications, and networking opportunities', 1), (27, 239, 1, 'Becoming a member of industry-specific organizations can provide access to the latest research, publications, and networking opportunities', 2), (27, 240, 1, 'Becoming a member of industry-specific organizations can provide access to the latest research, publications, and networking opportunities', 3), (28, 249, 1, 'Periodic reviews and updates are crucial to keep the technology stack current', 1), (28, 250, 1, 'Periodic reviews and updates are crucial to keep the technology stack current', 2), (28, 251, 1, 'Periodic reviews and updates are crucial to keep the technology stack current', 3), (29, 261, 1, 'Identifying potential threats and vulnerabilities is crucial for understanding the full scope of risks', 1), (29, 262, 1, 'Identifying potential threats and vulnerabilities is crucial for understanding the full scope of risks', 2), (29, 263, 1, 'Identifying potential threats and vulnerabilities is crucial for understanding the full scope of risks', 3), (30, 271, 1, 'Clearly explaining the advantages helps employees understand the value and reduces resistance', 1), (30, 272, 1, 'Clearly explaining the advantages helps employees understand the value and reduces resistance', 2), (30, 273, 1, 'Clearly explaining the advantages helps employees understand the value and reduces resistance', 3), (31, 283, 1, 'The team conducts regular market research and competitive analysis to understand emerging trends and shifts in the market. This helps us stay ahead of the curve', 1), (31, 284, 1, 'The team conducts regular market research and competitive analysis to understand emerging trends and shifts in the market. This helps us stay ahead of the curve', 2), (31, 285, 1, 'The team conducts regular market research and competitive analysis to understand emerging trends and shifts in the market. This helps us stay ahead of the curve', 3), (32, 293, 1, 'The rise of big data and analytics has significantly impacted our digital maturity. We now rely heavily on data-driven insights to inform our strategic decisions, optimize operations, and improve overall business performance', 1), (32, 293, 2, 'The increasing demand for personalized and seamless customer experiences has driven us to enhance our digital capabilities. We have invested in advanced analytics and AI to better understand and anticipate customer needs, leading to more tailored and engaging interactions', 2), (32, 293, 3, 'Market volatility and the need for quick responses to changing conditions have influenced our digital maturity. We have focused on building a more agile and adaptable digital infrastructure, allowing us to pivot quickly and efficiently in response to market shifts', 3), (33, 301, 1, 'We plan to integrate AI and machine learning into our operations to enhance decision-making, automate processes, and provide personalized customer experiences. These technologies will help us stay competitive and efficient', 1), (33, 302, 1, 'We plan to integrate AI and machine learning into our operations to enhance decision-making, automate processes, and provide personalized customer experiences. These technologies will help us stay competitive and efficient', 2), (33, 303, 1, 'We plan to integrate AI and machine learning into our operations to enhance decision-making, automate processes, and provide personalized customer experiences. These technologies will help us stay competitive and efficient', 3), (34, 311, 1, 'Leverage advanced data analytics to gain insights into market trends and consumer behavior. This data-driven approach helps make informed decisions and optimize digital strategy for better results', 1), (34, 311, 2, 'Conduct ongoing market analysis to identify emerging trends and shifts in consumer behavior. This allows proactively adjust digital strategy to stay ahead of the curve and meet evolving customer needs', 2), (34, 311, 3, 'Actively seek and integrate customer feedback into digital strategy. By understanding customers’ preferences and pain points can tailor our digital initiatives to better serve their needs', 3), (35, 324, 1, 'Utilize advanced data analytics tools to analyze vast amounts of data from various sources. This helps identify patterns and predict future trends with greater accuracy', 1), (35, 324, 2, 'Leverage AI and machine learning algorithms to process and analyze data. These technologies help identify trends and make predictions based on historical data and current market conditions', 2), (35, 324, 3, 'Use predictive analytics to forecast future market trends based on historical data and current market conditions. This helps make informed decisions and stay proactive in the approach', 3), (36, 334, 1, 'Actively invest in emerging technologies such as AI, machine learning, and blockchain. By staying at the forefront of technological advancements, ensure our operations remain innovative and competitive', 1), (36, 335, 1, 'Actively invest in emerging technologies such as AI, machine learning, and blockchain. By staying at the forefront of technological advancements, ensure our operations remain innovative and competitive', 2), (36, 336, 1, 'Actively invest in emerging technologies such as AI, machine learning, and blockchain. By staying at the forefront of technological advancements, ensure our operations remain innovative and competitive', 3), (37, 344, 1, 'Leverage data analytics to monitor market trends and consumer behavior. This helps identify emerging patterns and adjust digital marketing strategies to target the right audience with the right message at the right time', 1), (37, 345, 1, 'Leverage data analytics to monitor market trends and consumer behavior. This helps identify emerging patterns and adjust digital marketing strategies to target the right audience with the right message at the right time', 2), (37, 346, 1, 'Leverage data analytics to monitor market trends and consumer behavior. This helps identify emerging patterns and adjust digital marketing strategies to target the right audience with the right message at the right time', 3), (38, 354, 1, 'Staying updated on the latest trends and consumer preferences is crucial for making informed decisions and staying competitive', 1), (38, 354, 2, 'Direct feedback from customers provides valuable insights into their needs and preferences, which can directly influence product development', 2), (38, 354, 3, 'Understanding competitors’ strategies and market positioning helps in identifying opportunities and threats, allowing for strategic adjustments', 3), (39, 361, 1, 'Tailoring responses and recommendations to individual customers significantly enhances satisfaction and loyalty', 1), (39, 361, 2, 'Providing a seamless experience across multiple channels ensures customers can easily reach support through their preferred method', 2), (39, 361, 3, 'Implementing AI and machine learning improves efficiency and allows for 24/7 support, addressing common issues quickly', 3), (40, 367, 1, 'Discovering new and growing markets can open up significant opportunities for sales expansion', 1), (40, 367, 2, 'Accurate sales forecasts based on trend analysis help in better inventory management and setting realistic sales targets', 2), (40, 367, 3, 'Adapting sales tactics to current market conditions and consumer preferences ensures the company remains competitive and relevant', 3), (41, 374, 1, 'Optimizing website content to rank higher in search engine results is crucial for increasing organic traffic and visibility', 1), (41, 375, 1, 'Optimizing website content to rank higher in search engine results is crucial for increasing organic traffic and visibility', 2), (41, 377, 1, 'Optimizing website content to rank higher in search engine results is crucial for increasing organic traffic and visibility', 3), (42, 385, 1, 'Calculating the financial return generated from digital marketing activities relative to the cost is crucial for understanding overall effectiveness', 1), (42, 386, 1, 'Calculating the financial return generated from digital marketing activities relative to the cost is crucial for understanding overall effectiveness', 2), (42, 387, 1, 'Calculating the financial return generated from digital marketing activities relative to the cost is crucial for understanding overall effectiveness', 3), (43, 395, 1, 'Analyzing data to gain insights into customer behavior and campaign performance is crucial for making informed decisions and optimizing strategies', 1), (43, 396, 1, 'Analyzing data to gain insights into customer behavior and campaign performance is crucial for making informed decisions and optimizing strategies', 2), (43, 397, 1, 'Analyzing data to gain insights into customer behavior and campaign performance is crucial for making informed decisions and optimizing strategies', 3), (44, 405, 1, 'Setting clear marketing goals and identifying KPIs is crucial for measuring the success of marketing campaigns', 1), (44, 405, 2, 'Using statistical methods to uncover insights and trends from the data helps inform targeted marketing strategies', 2), (44, 405, 3, 'Tailoring marketing messages and offers based on customer data and behavior can significantly enhance engagement and conversion rates', 3), (45, 415, 1, 'Identifying relevant keywords that potential customers are using to search for products or services is fundamental for effective SEO', 1), (45, 415, 2, 'Optimizing individual web pages to rank higher and earn more relevant traffic ensures that content is easily discoverable by search engines', 2), (45, 415, 3, 'Producing high-quality, valuable content that addresses the needs and interests of the target audience is crucial for attracting and retaining visitors', 3), (46, 426, 1, 'Increasing visibility and recognition of the brand is fundamental for establishing a strong market presence', 1), (46, 427, 1, 'Increasing visibility and recognition of the brand is fundamental for establishing a strong market presence', 2), (46, 428, 1, 'Increasing visibility and recognition of the brand is fundamental for establishing a strong market presence', 3), (47, 436, 1, 'Sending tailored emails based on customer preferences and behaviors significantly enhances engagement and conversion rates', 1), (47, 437, 1, 'Sending tailored emails based on customer preferences and behaviors significantly enhances engagement and conversion rates', 2), (47, 438, 1, 'Sending tailored emails based on customer preferences and behaviors significantly enhances engagement and conversion rates', 3), (48, 446, 1, 'Producing informative and engaging blog posts that address the needs and interests of the target audience is fundamental for attracting and educating potential customers', 1), (48, 446, 2, 'Ensuring all content is optimized for search engines improves visibility and attracts organic traffic, making it easier for potential customers to find the content', 2), (48, 446, 3, 'Creating videos to explain products, share customer testimonials, and provide educational content engages viewers and builds trust', 3), (49, 456, 1, 'Collaborating with influencers who align with the brand’s values and target audience ensures that the promotion reaches the right people', 1), (49, 456, 2, 'Encouraging influencers to create genuine and relatable content resonates more with their audience, leading to higher engagement and trust', 2), (49, 456, 3, 'Partnering with micro-influencers who have smaller but highly engaged followings can be more cost-effective and targeted', 3), (50, 466, 1, 'Showcasing how products work and their benefits helps potential customers understand the product better and make informed purchasing decisions', 1), (50, 466, 2, 'Sharing videos of satisfied customers builds trust and credibility, showing real-life success stories that can influence potential buyers', 2), (50, 466, 3, 'Producing how-to videos, tutorials, and webinars provides valuable information and positions the company as an industry expert', 3)]\n"
     ]
    }
   ],
   "source": [
    "print(user_answer_solutions)"
   ]
  },
  {
   "cell_type": "code",
   "execution_count": 21,
   "metadata": {},
   "outputs": [],
   "source": [
    "from collections import defaultdict"
   ]
  },
  {
   "cell_type": "code",
   "execution_count": 22,
   "metadata": {},
   "outputs": [],
   "source": [
    "question_solution_dict = defaultdict(set)\n",
    "for questionsId, _, _,solution, _ in user_answer_solutions:\n",
    "    question_solution_dict[questionsId].add(solution)\n"
   ]
  },
  {
   "cell_type": "code",
   "execution_count": 23,
   "metadata": {},
   "outputs": [
    {
     "data": {
      "text/plain": [
       "defaultdict(set,\n",
       "            {1: {'If the alignment needs improvement, it means that while there is some connection between the digital and business strategies, there are areas where the digital initiatives are not effectively supporting the business objectives. This could be due to a lack of communication, unclear digital goals, or a rapidly changing digital landscape.',\n",
       "              'When the digital strategy is fully aligned with the business strategy, digital initiatives directly support the achievement of business objectives. This includes understanding the business’s strategic goals and ensuring that all digital efforts contribute towards these goals',\n",
       "              'Without a plan in place, digital initiatives may be disjointed and not contribute effectively to business objectives. It’s crucial to develop a digital strategy that aligns with the business strategy to ensure that digital initiatives are driving the organization towards its goals.'},\n",
       "             2: {'Directly manages the implmentation of digital transformation projects',\n",
       "              'Focuses on external customer-facing technologies and how they align with business operation',\n",
       "              'Responsible for aligningg technology with the organisations strategic goals'},\n",
       "             3: {' Continuous monitoring is the most effective as it allows for real-time adjustments and can quickly identify issues or opportunities',\n",
       "              'Monthly reviews can be effective for tracking progress and making minor adjustments to the strategy',\n",
       "              'Quarterly reviews provide a balance between being responsive to changes and not having to constantly adjust your strategy'},\n",
       "             4: {'These metrics provide insights into the cost-effectiveness of your customer acquisition strategies and the value that customers bring over their lifetime',\n",
       "              'This is often considered the most important metric as it directly relates to the profitability of your digital initiatives',\n",
       "              'This measures the effectiveness of your digital strategy in driving desired actions, making it a key indicator of success'},\n",
       "             5: {'Indicates how well new digital tools are being utilized and their impact'},\n",
       "             6: {'Articulate the digital strategy and its relevance to the company’s vision'},\n",
       "             7: {''},\n",
       "             8: {'Critical for understanding the impact and guiding decisions',\n",
       "              'Essential for keeping the strategy relevant and effective',\n",
       "              'The foundation for gathering valuable insights'},\n",
       "             9: {'Ensures that the technology supports the business objectives',\n",
       "              'Fundamental for understanding the potential and limitations of new technologies'},\n",
       "             10: {'Key to making customers feel valued and understood',\n",
       "              'Seamless user experience',\n",
       "              'The basis for a customer-centric strategy'},\n",
       "             11: {'The ability to interpret and leverage data is crucial for driving business decisions and strategy in a mature digital company'},\n",
       "             12: {'These tests are designed to assess the specific digital skills required for the job, making them a top priority'},\n",
       "             13: {'These are often the most direct and effective way to upskill employees, as they can be tailored to the specific needs of the organization and its employees'},\n",
       "             14: {'Leaders acting as role models and actively supporting their team’s learning efforts can have the greatest impact on fostering a learning culture'},\n",
       "             15: {'The ability to analyze and interpret data effectively is crucial for driving business decisions and strategy'},\n",
       "             16: {'Implementing comprehensive training programs for existing employees can help to improve their digital skills. This could include workshops, online courses, or even bringing in experts for in-house training sessions'},\n",
       "             17: {'The digital world is constantly evolving, so it’s important to be a lifelong learner. This could involve taking online courses, attending workshops or webinars, or reading up on the latest trends and technologies'},\n",
       "             18: {'Regularly assess the digital skills of your employees to identify any gaps. This can be done through surveys, interviews, or performance reviews'},\n",
       "             19: {'Provide comprehensive training on new tools and platforms. This could include hands-on workshops, online tutorials, or even bringing in experts for in-house training sessions'},\n",
       "             20: {'Offering competitive salaries and benefits is often the most direct way to attract talented professionals'},\n",
       "             21: {''},\n",
       "             22: {'Crucial for championing the adoption and addressing challenges',\n",
       "              'Essential for explaining benefits, addressing concerns, and ensuring everyone is on the same page',\n",
       "              'Vital for ensuring users understand how to use the new technology effectively'},\n",
       "             23: {'Accurately measuring the return on investment helps justify the expense and assess the technology’s value'},\n",
       "             24: {'A high adoption rate is crucial as it indicates widespread acceptance and use of the technology'},\n",
       "             25: {'Establishing clear objectives is crucial as it guides the entire alignment process'},\n",
       "             26: {'Clearly defining and communicating objectives helps everyone understand the purpose and benefits of the change'},\n",
       "             27: {'Becoming a member of industry-specific organizations can provide access to the latest research, publications, and networking opportunities'},\n",
       "             28: {'Periodic reviews and updates are crucial to keep the technology stack current'},\n",
       "             29: {'Identifying potential threats and vulnerabilities is crucial for understanding the full scope of risks'},\n",
       "             30: {'Clearly explaining the advantages helps employees understand the value and reduces resistance'},\n",
       "             31: {'The team conducts regular market research and competitive analysis to understand emerging trends and shifts in the market. This helps us stay ahead of the curve'},\n",
       "             32: {'Market volatility and the need for quick responses to changing conditions have influenced our digital maturity. We have focused on building a more agile and adaptable digital infrastructure, allowing us to pivot quickly and efficiently in response to market shifts',\n",
       "              'The increasing demand for personalized and seamless customer experiences has driven us to enhance our digital capabilities. We have invested in advanced analytics and AI to better understand and anticipate customer needs, leading to more tailored and engaging interactions',\n",
       "              'The rise of big data and analytics has significantly impacted our digital maturity. We now rely heavily on data-driven insights to inform our strategic decisions, optimize operations, and improve overall business performance'},\n",
       "             33: {'We plan to integrate AI and machine learning into our operations to enhance decision-making, automate processes, and provide personalized customer experiences. These technologies will help us stay competitive and efficient'},\n",
       "             34: {'Actively seek and integrate customer feedback into digital strategy. By understanding customers’ preferences and pain points can tailor our digital initiatives to better serve their needs',\n",
       "              'Conduct ongoing market analysis to identify emerging trends and shifts in consumer behavior. This allows proactively adjust digital strategy to stay ahead of the curve and meet evolving customer needs',\n",
       "              'Leverage advanced data analytics to gain insights into market trends and consumer behavior. This data-driven approach helps make informed decisions and optimize digital strategy for better results'},\n",
       "             35: {'Leverage AI and machine learning algorithms to process and analyze data. These technologies help identify trends and make predictions based on historical data and current market conditions',\n",
       "              'Use predictive analytics to forecast future market trends based on historical data and current market conditions. This helps make informed decisions and stay proactive in the approach',\n",
       "              'Utilize advanced data analytics tools to analyze vast amounts of data from various sources. This helps identify patterns and predict future trends with greater accuracy'},\n",
       "             36: {'Actively invest in emerging technologies such as AI, machine learning, and blockchain. By staying at the forefront of technological advancements, ensure our operations remain innovative and competitive'},\n",
       "             37: {'Leverage data analytics to monitor market trends and consumer behavior. This helps identify emerging patterns and adjust digital marketing strategies to target the right audience with the right message at the right time'},\n",
       "             38: {'Direct feedback from customers provides valuable insights into their needs and preferences, which can directly influence product development',\n",
       "              'Staying updated on the latest trends and consumer preferences is crucial for making informed decisions and staying competitive',\n",
       "              'Understanding competitors’ strategies and market positioning helps in identifying opportunities and threats, allowing for strategic adjustments'},\n",
       "             39: {'Implementing AI and machine learning improves efficiency and allows for 24/7 support, addressing common issues quickly',\n",
       "              'Providing a seamless experience across multiple channels ensures customers can easily reach support through their preferred method',\n",
       "              'Tailoring responses and recommendations to individual customers significantly enhances satisfaction and loyalty'},\n",
       "             40: {'Accurate sales forecasts based on trend analysis help in better inventory management and setting realistic sales targets',\n",
       "              'Adapting sales tactics to current market conditions and consumer preferences ensures the company remains competitive and relevant',\n",
       "              'Discovering new and growing markets can open up significant opportunities for sales expansion'},\n",
       "             41: {'Optimizing website content to rank higher in search engine results is crucial for increasing organic traffic and visibility'},\n",
       "             42: {'Calculating the financial return generated from digital marketing activities relative to the cost is crucial for understanding overall effectiveness'},\n",
       "             43: {'Analyzing data to gain insights into customer behavior and campaign performance is crucial for making informed decisions and optimizing strategies'},\n",
       "             44: {'Setting clear marketing goals and identifying KPIs is crucial for measuring the success of marketing campaigns',\n",
       "              'Tailoring marketing messages and offers based on customer data and behavior can significantly enhance engagement and conversion rates',\n",
       "              'Using statistical methods to uncover insights and trends from the data helps inform targeted marketing strategies'},\n",
       "             45: {'Identifying relevant keywords that potential customers are using to search for products or services is fundamental for effective SEO',\n",
       "              'Optimizing individual web pages to rank higher and earn more relevant traffic ensures that content is easily discoverable by search engines',\n",
       "              'Producing high-quality, valuable content that addresses the needs and interests of the target audience is crucial for attracting and retaining visitors'},\n",
       "             46: {'Increasing visibility and recognition of the brand is fundamental for establishing a strong market presence'},\n",
       "             47: {'Sending tailored emails based on customer preferences and behaviors significantly enhances engagement and conversion rates'},\n",
       "             48: {'Creating videos to explain products, share customer testimonials, and provide educational content engages viewers and builds trust',\n",
       "              'Ensuring all content is optimized for search engines improves visibility and attracts organic traffic, making it easier for potential customers to find the content',\n",
       "              'Producing informative and engaging blog posts that address the needs and interests of the target audience is fundamental for attracting and educating potential customers'},\n",
       "             49: {'Collaborating with influencers who align with the brand’s values and target audience ensures that the promotion reaches the right people',\n",
       "              'Encouraging influencers to create genuine and relatable content resonates more with their audience, leading to higher engagement and trust',\n",
       "              'Partnering with micro-influencers who have smaller but highly engaged followings can be more cost-effective and targeted'},\n",
       "             50: {'Producing how-to videos, tutorials, and webinars provides valuable information and positions the company as an industry expert',\n",
       "              'Sharing videos of satisfied customers builds trust and credibility, showing real-life success stories that can influence potential buyers',\n",
       "              'Showcasing how products work and their benefits helps potential customers understand the product better and make informed purchasing decisions'}})"
      ]
     },
     "execution_count": 23,
     "metadata": {},
     "output_type": "execute_result"
    }
   ],
   "source": [
    "question_solution_dict"
   ]
  },
  {
   "cell_type": "code",
   "execution_count": null,
   "metadata": {},
   "outputs": [],
   "source": [
    "tuple(params)"
   ]
  },
  {
   "cell_type": "code",
   "execution_count": null,
   "metadata": {},
   "outputs": [],
   "source": [
    "print('WITH sectquest\\nAS (\\n\\tSELECT s.section\\n\\t\\t,q.id AS questionsId\\n\\tFROM sections AS s\\n\\tINNER JOIN questions AS q ON q.sectionid = s.id\\n\\t)\\n\\t,useransweight\\nAS (\\n\\tSELECT ua.answersId\\n\\t\\t,a.weighting\\n\\t\\t,a.questionsId\\n\\tFROM useranswers AS ua\\n\\tINNER JOIN answers AS a ON ua.answersId = a.id\\n\\tWHERE ua.userid = s%\\n\\t)\\n\\t,section_answer_weight\\nAS (\\n\\tSELECT sq.section\\n\\t\\t,uw.answersid\\n\\t\\t,uw.weighting\\n\\tFROM useransweight AS uw\\n\\tINNER JOIN sectquest AS sq ON uw.questionsId = sq.questionsId\\n\\t)\\nSELECT section\\n\\t,answersid\\n\\t,weighting\\nFROM section_answer_weight\\n')"
   ]
  },
  {
   "cell_type": "code",
   "execution_count": 2,
   "metadata": {},
   "outputs": [],
   "source": [
    "x = set([1,2,3,4])"
   ]
  },
  {
   "cell_type": "code",
   "execution_count": 3,
   "metadata": {},
   "outputs": [
    {
     "name": "stdout",
     "output_type": "stream",
     "text": [
      "1\n",
      "2\n",
      "3\n",
      "4\n"
     ]
    }
   ],
   "source": [
    "for i in x:\n",
    "    print(i)"
   ]
  },
  {
   "cell_type": "code",
   "execution_count": 6,
   "metadata": {},
   "outputs": [
    {
     "data": {
      "text/plain": [
       "{1, 2, 3, 4}"
      ]
     },
     "execution_count": 6,
     "metadata": {},
     "output_type": "execute_result"
    }
   ],
   "source": [
    "x"
   ]
  },
  {
   "cell_type": "code",
   "execution_count": 7,
   "metadata": {},
   "outputs": [
    {
     "data": {
      "text/plain": [
       "[1, 2, 3, 4]"
      ]
     },
     "execution_count": 7,
     "metadata": {},
     "output_type": "execute_result"
    }
   ],
   "source": [
    "list(x)"
   ]
  },
  {
   "cell_type": "code",
   "execution_count": 8,
   "metadata": {},
   "outputs": [],
   "source": [
    "y = set([\"a\", \"b\", \"c\"])"
   ]
  },
  {
   "cell_type": "code",
   "execution_count": 12,
   "metadata": {},
   "outputs": [
    {
     "data": {
      "text/plain": [
       "'b,c,a'"
      ]
     },
     "execution_count": 12,
     "metadata": {},
     "output_type": "execute_result"
    }
   ],
   "source": [
    "\",\".join(y)"
   ]
  }
 ],
 "metadata": {
  "kernelspec": {
   "display_name": "dc31ipr-digital-transformation-tool-_72JC8cR-py3.11",
   "language": "python",
   "name": "python3"
  },
  "language_info": {
   "codemirror_mode": {
    "name": "ipython",
    "version": 3
   },
   "file_extension": ".py",
   "mimetype": "text/x-python",
   "name": "python",
   "nbconvert_exporter": "python",
   "pygments_lexer": "ipython3",
   "version": "3.11.0"
  }
 },
 "nbformat": 4,
 "nbformat_minor": 2
}
