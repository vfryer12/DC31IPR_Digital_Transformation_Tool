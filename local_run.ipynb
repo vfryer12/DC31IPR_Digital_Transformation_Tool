{
 "cells": [
  {
   "cell_type": "code",
   "execution_count": 2,
   "metadata": {},
   "outputs": [],
   "source": [
    "from db_connector import create_connection"
   ]
  },
  {
   "cell_type": "code",
   "execution_count": 3,
   "metadata": {},
   "outputs": [],
   "source": [
    "from daos import get_db_data"
   ]
  },
  {
   "cell_type": "code",
   "execution_count": 4,
   "metadata": {},
   "outputs": [
    {
     "name": "stdout",
     "output_type": "stream",
     "text": [
      "Connection successfully created\n"
     ]
    }
   ],
   "source": [
    "conn = create_connection()"
   ]
  },
  {
   "cell_type": "code",
   "execution_count": 5,
   "metadata": {},
   "outputs": [],
   "source": [
    "vals = get_db_data.get_section_answer_weights(conn, 3)"
   ]
  },
  {
   "cell_type": "code",
   "execution_count": 6,
   "metadata": {},
   "outputs": [
    {
     "name": "stdout",
     "output_type": "stream",
     "text": [
      "[('Digital Strategy', 3, 3), ('Digital Strategy', 4, 1), ('Digital Strategy', 13, 1), ('Digital Skills', 84, 1), ('Digital Skills', 94, 1), ('Digital Skills', 102, 1), ('Digital Skills', 113, 1), ('Digital Skills', 127, 1), ('Digital Skills', 137, 1), ('Technology Adoption', 175, 2), ('Technology Adoption', 186, 1), ('Technology Adoption', 196, 1), ('Technology Adoption', 206, 1), ('Technology Adoption', 216, 1), ('Technology Adoption', 226, 1), ('Technology Adoption', 238, 1), ('Technology Adoption', 249, 1), ('Technology Adoption', 261, 1), ('Technology Adoption', 271, 1), ('Market Trends', 283, 1), ('Market Trends', 293, 1), ('Market Trends', 301, 1), ('Market Trends', 311, 1), ('Market Trends', 324, 1), ('Market Trends', 334, 1), ('Market Trends', 344, 1), ('Market Trends', 354, 1), ('Market Trends', 361, 1), ('Market Trends', 367, 1), ('Digital Marketing', 374, 1), ('Digital Marketing', 385, 1), ('Digital Marketing', 395, 1), ('Digital Marketing', 405, 1), ('Digital Marketing', 415, 1), ('Digital Marketing', 426, 1), ('Digital Marketing', 436, 1), ('Digital Marketing', 446, 1), ('Digital Marketing', 456, 1), ('Digital Marketing', 466, 1), ('Digital Strategy', 22, 5), ('Digital Strategy', 30, 5), ('Digital Strategy', 48, 2), ('Digital Strategy', 57, 3), ('Digital Strategy', 68, 6), ('Digital Strategy', 72, 3), ('Digital Strategy', 80, 4)]\n"
     ]
    }
   ],
   "source": [
    "print(vals)"
   ]
  },
  {
   "cell_type": "code",
   "execution_count": null,
   "metadata": {},
   "outputs": [],
   "source": [
    "tuple(params)"
   ]
  },
  {
   "cell_type": "code",
   "execution_count": null,
   "metadata": {},
   "outputs": [],
   "source": [
    "print('WITH sectquest\\nAS (\\n\\tSELECT s.section\\n\\t\\t,q.id AS questionsId\\n\\tFROM sections AS s\\n\\tINNER JOIN questions AS q ON q.sectionid = s.id\\n\\t)\\n\\t,useransweight\\nAS (\\n\\tSELECT ua.answersId\\n\\t\\t,a.weighting\\n\\t\\t,a.questionsId\\n\\tFROM useranswers AS ua\\n\\tINNER JOIN answers AS a ON ua.answersId = a.id\\n\\tWHERE ua.userid = s%\\n\\t)\\n\\t,section_answer_weight\\nAS (\\n\\tSELECT sq.section\\n\\t\\t,uw.answersid\\n\\t\\t,uw.weighting\\n\\tFROM useransweight AS uw\\n\\tINNER JOIN sectquest AS sq ON uw.questionsId = sq.questionsId\\n\\t)\\nSELECT section\\n\\t,answersid\\n\\t,weighting\\nFROM section_answer_weight\\n')"
   ]
  },
  {
   "cell_type": "code",
   "execution_count": null,
   "metadata": {},
   "outputs": [],
   "source": []
  }
 ],
 "metadata": {
  "kernelspec": {
   "display_name": "dc31ipr-digital-transformation-tool-_72JC8cR-py3.11",
   "language": "python",
   "name": "python3"
  },
  "language_info": {
   "codemirror_mode": {
    "name": "ipython",
    "version": 3
   },
   "file_extension": ".py",
   "mimetype": "text/x-python",
   "name": "python",
   "nbconvert_exporter": "python",
   "pygments_lexer": "ipython3",
   "version": "3.11.0"
  }
 },
 "nbformat": 4,
 "nbformat_minor": 2
}
